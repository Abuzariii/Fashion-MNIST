{
  "nbformat": 4,
  "nbformat_minor": 0,
  "metadata": {
    "colab": {
      "name": "Fashion_MNIST.ipynb",
      "provenance": [],
      "collapsed_sections": [
        "PmYAU1ur7TXn",
        "v23SFie7erND",
        "DWWwlIfa7c51",
        "6tBxGa5Lg8hi",
        "BdyCmcN675dM",
        "DQhIG0cfkGah",
        "ftNWNSeIkrsx"
      ]
    },
    "kernelspec": {
      "name": "python3",
      "display_name": "Python 3"
    },
    "language_info": {
      "name": "python"
    },
    "accelerator": "GPU"
  },
  "cells": [
    {
      "cell_type": "markdown",
      "source": [
        "## Task at Hand\n",
        "\n",
        "The Fashion-MNIST dataset is a subset of the MNIST (Modified National Institute of Standards and Technology) database.\n",
        "\n",
        "It is a dataset of 70,000 graysclae images of 10 clothing items.\n",
        "\n",
        "Each image is a 28X28 tensor/array/matrix with pixel values between the range of 0 and 255.\n",
        "\n",
        "In this notebook we will try to build Fully Connected Deep Neural Networks and Convolutional Neural Networks based Models and try to achieve 90%+ accuracy. Keep in mind that benchmark for Fashion MNIST is Fine-Tuning DARTS model that achieved an accuracy of 96.9% in 2020. Reference : [Fashion-MNIST Benchmarks](https://paperswithcode.com/sota/image-classification-on-fashion-mnist)"
      ],
      "metadata": {
        "id": "OW_gomz4Vbav"
      }
    },
    {
      "cell_type": "markdown",
      "source": [
        "**Reference Links:** \n",
        "\n",
        "[Link 1](https://colab.research.google.com/drive/1U7KniSWvUK7fniG5sqp-NYGNAyDxjX_N#scrollTo=QrIFMbP4TgrT)\n",
        "\n",
        "[Link 2](https://colab.research.google.com/github/liady/ssp19ai/blob/master/Excercise_3_Fashion_MNIST_Classifier.ipynb#scrollTo=hQlnbqaw2Qu_&uniqifier=1)\n",
        "\n",
        "[Link 3](https://colab.research.google.com/github/markwest1972/CNN-Example-Google-Colaboratory/blob/master/CNN_Fashion_MNIST_Example.ipynb#scrollTo=hFXEvBB9hvor)\n",
        "\n",
        "[Link 4](https://stats.stackexchange.com/questions/296027/choosing-filter-size-strides-etc-in-a-cnn)\n",
        "\n",
        "[Link 5](https://www.kaggle.com/code/rutvikdeshpande/fashion-mnist-cnn-beginner-98/notebook)"
      ],
      "metadata": {
        "id": "qdpkYASnnTBc"
      }
    },
    {
      "cell_type": "markdown",
      "source": [
        "# Imports, Data Loading and Exploration."
      ],
      "metadata": {
        "id": "qYe5tCLI5S9W"
      }
    },
    {
      "cell_type": "code",
      "execution_count": 1,
      "metadata": {
        "id": "kACbuOCmW7mU"
      },
      "outputs": [],
      "source": [
        "import tensorflow_datasets as tfds\n",
        "tfds.disable_progress_bar()"
      ]
    },
    {
      "cell_type": "code",
      "source": [
        "# Install utilities through this link, or write your own functions like I did in this notebook.\n",
        "!git clone https://github.com/liady/ssp19ai_utils.git\n",
        "!git -C ssp19ai_utils pull\n",
        "import ssp19ai_utils.utils as utils\n",
        "import importlib\n",
        "importlib.reload(utils)"
      ],
      "metadata": {
        "colab": {
          "base_uri": "https://localhost:8080/"
        },
        "id": "f3hLjKEBC30r",
        "outputId": "da26050b-45e2-40dd-d444-d4b7afe9ec32"
      },
      "execution_count": 2,
      "outputs": [
        {
          "output_type": "stream",
          "name": "stdout",
          "text": [
            "Cloning into 'ssp19ai_utils'...\n",
            "remote: Enumerating objects: 78, done.\u001b[K\n",
            "remote: Total 78 (delta 0), reused 0 (delta 0), pack-reused 78\u001b[K\n",
            "Unpacking objects: 100% (78/78), done.\n",
            "Already up to date.\n"
          ]
        },
        {
          "output_type": "execute_result",
          "data": {
            "text/plain": [
              "<module 'ssp19ai_utils.utils' from '/content/ssp19ai_utils/utils.py'>"
            ]
          },
          "metadata": {},
          "execution_count": 2
        }
      ]
    },
    {
      "cell_type": "code",
      "source": [
        "import math\n",
        "import numpy as np\n",
        "import matplotlib.pyplot as plt\n",
        "import keras\n",
        "import tensorflow as tf\n",
        "import random"
      ],
      "metadata": {
        "id": "iomf1CEpZh4n"
      },
      "execution_count": 3,
      "outputs": []
    },
    {
      "cell_type": "code",
      "source": [
        "fashion_mnist = keras.datasets.fashion_mnist"
      ],
      "metadata": {
        "id": "1ofLPmybat0t"
      },
      "execution_count": 4,
      "outputs": []
    },
    {
      "cell_type": "code",
      "source": [
        "fashion_mnist"
      ],
      "metadata": {
        "colab": {
          "base_uri": "https://localhost:8080/"
        },
        "id": "rRVURQ5da71q",
        "outputId": "2003e67d-8ecf-4729-d7b4-5f26c211dfd5"
      },
      "execution_count": 5,
      "outputs": [
        {
          "output_type": "execute_result",
          "data": {
            "text/plain": [
              "<module 'keras.datasets.fashion_mnist' from '/usr/local/lib/python3.7/dist-packages/keras/datasets/fashion_mnist.py'>"
            ]
          },
          "metadata": {},
          "execution_count": 5
        }
      ]
    },
    {
      "cell_type": "code",
      "source": [
        "(train_images, train_labels), (test_images, test_labels) = fashion_mnist.load_data()"
      ],
      "metadata": {
        "id": "pO6uvgvoa9OE",
        "colab": {
          "base_uri": "https://localhost:8080/"
        },
        "outputId": "82af73da-cd41-4500-e23b-b945c6deb8b4"
      },
      "execution_count": 6,
      "outputs": [
        {
          "output_type": "stream",
          "name": "stdout",
          "text": [
            "Downloading data from https://storage.googleapis.com/tensorflow/tf-keras-datasets/train-labels-idx1-ubyte.gz\n",
            "32768/29515 [=================================] - 0s 0us/step\n",
            "40960/29515 [=========================================] - 0s 0us/step\n",
            "Downloading data from https://storage.googleapis.com/tensorflow/tf-keras-datasets/train-images-idx3-ubyte.gz\n",
            "26427392/26421880 [==============================] - 0s 0us/step\n",
            "26435584/26421880 [==============================] - 0s 0us/step\n",
            "Downloading data from https://storage.googleapis.com/tensorflow/tf-keras-datasets/t10k-labels-idx1-ubyte.gz\n",
            "16384/5148 [===============================================================================================] - 0s 0us/step\n",
            "Downloading data from https://storage.googleapis.com/tensorflow/tf-keras-datasets/t10k-images-idx3-ubyte.gz\n",
            "4423680/4422102 [==============================] - 0s 0us/step\n",
            "4431872/4422102 [==============================] - 0s 0us/step\n"
          ]
        }
      ]
    },
    {
      "cell_type": "code",
      "source": [
        "train_images.shape"
      ],
      "metadata": {
        "colab": {
          "base_uri": "https://localhost:8080/"
        },
        "id": "euOAM7lWbDbw",
        "outputId": "72d17292-7225-4695-aa57-d1a6b1167ac3"
      },
      "execution_count": 7,
      "outputs": [
        {
          "output_type": "execute_result",
          "data": {
            "text/plain": [
              "(60000, 28, 28)"
            ]
          },
          "metadata": {},
          "execution_count": 7
        }
      ]
    },
    {
      "cell_type": "code",
      "source": [
        "\"\"\"\n",
        "    These are the clothing items in order.\n",
        "    Note that the labels and images in the dataset are all numerical.\n",
        "\"\"\"\n",
        "\n",
        "class_names = ['T-shirt/top', 'Trouser', 'Pullover', 'Dress', 'Coat',\n",
        "               'Sandal', 'Shirt', 'Sneaker', 'Bag', 'Ankle boot']"
      ],
      "metadata": {
        "id": "t7l3_FRXdsf5"
      },
      "execution_count": 8,
      "outputs": []
    },
    {
      "cell_type": "code",
      "source": [
        "#Cmap=None prints out colored while Cmap=plt.cm.binary prints our grayscale images\n",
        "def plot_random_image_grayscale():\n",
        "    a = random.randrange(0, 10000, 1)\n",
        "    image = train_images[a]\n",
        "    title = class_names[train_labels[a]]\n",
        "    plt.figure()\n",
        "    plt.title(title)\n",
        "    plt.imshow(image, cmap=plt.cm.binary)\n",
        "    plt.colorbar()\n",
        "    plt.grid(False)\n",
        "    plt.show()\n",
        "\n",
        "def plot_random_image_heatmap():\n",
        "    a = random.randrange(0, 10000, 1)\n",
        "    image = train_images[a]\n",
        "    title = class_names[train_labels[a]]\n",
        "    plt.figure()\n",
        "    plt.title(title)\n",
        "    plt.imshow(image, cmap=None)\n",
        "    plt.colorbar()\n",
        "    plt.grid(False)\n",
        "    plt.show()"
      ],
      "metadata": {
        "id": "jPivYKVLf7z9"
      },
      "execution_count": 10,
      "outputs": []
    },
    {
      "cell_type": "code",
      "source": [
        "plot_random_image_grayscale()\n",
        "plot_random_image_heatmap()"
      ],
      "metadata": {
        "colab": {
          "base_uri": "https://localhost:8080/",
          "height": 545
        },
        "id": "Ah7Ik_kogaIQ",
        "outputId": "a4f7f13f-7c2b-48be-b82f-6ecfeb7ac625"
      },
      "execution_count": 11,
      "outputs": [
        {
          "output_type": "display_data",
          "data": {
            "text/plain": [
              "<Figure size 432x288 with 2 Axes>"
            ],
            "image/png": "[encoded data removed]"
          },
          "metadata": {
            "needs_background": "light"
          }
        },
        {
          "output_type": "display_data",
          "data": {
            "text/plain": [
              "<Figure size 432x288 with 2 Axes>"
            ],
            "image/png": "[encoded data removed]"
          },
          "metadata": {
            "needs_background": "light"
          }
        }
      ]
    },
    {
      "cell_type": "code",
      "source": [
        "#Plotting 25 images at a time\n",
        "\n",
        "plt.figure(figsize=(10,10))\n",
        "for i in range(25):\n",
        "    plt.subplot(5,5,i+1)\n",
        "    plt.xticks([])\n",
        "    plt.yticks([])\n",
        "    plt.imshow(train_images[i], cmap=plt.cm.binary)\n",
        "    plt.title(class_names[train_labels[i]])\n",
        "plt.show()"
      ],
      "metadata": {
        "colab": {
          "base_uri": "https://localhost:8080/",
          "height": 594
        },
        "id": "7JePd-EKmX7o",
        "outputId": "53c8b90c-836d-4d24-96e1-89d6478d70a4"
      },
      "execution_count": 12,
      "outputs": [
        {
          "output_type": "display_data",
          "data": {
            "text/plain": [
              "<Figure size 720x720 with 25 Axes>"
            ],
            "image/png": "[encoded data removed]"
          },
          "metadata": {}
        }
      ]
    },
    {
      "cell_type": "code",
      "source": [
        "\"\"\"\n",
        "    Every pixel has value between the range of 0 and 255, dividing them by 255 would\n",
        "    normalize the dataset and ease computation for our model, hence enhancing its\n",
        "    performance\n",
        "\"\"\"\n",
        "\n",
        "train_images = train_images/255\n",
        "test_images = test_images/255"
      ],
      "metadata": {
        "id": "50QWEQyQ3q1u"
      },
      "execution_count": 13,
      "outputs": []
    },
    {
      "cell_type": "code",
      "source": [
        "len(class_names)"
      ],
      "metadata": {
        "colab": {
          "base_uri": "https://localhost:8080/"
        },
        "id": "mn-fCEWV5HTC",
        "outputId": "180cb8db-66b4-44b8-d16c-c361ac918c32"
      },
      "execution_count": 14,
      "outputs": [
        {
          "output_type": "execute_result",
          "data": {
            "text/plain": [
              "10"
            ]
          },
          "metadata": {},
          "execution_count": 14
        }
      ]
    },
    {
      "cell_type": "markdown",
      "source": [
        "# Model 1\n",
        "\n",
        "A simple fully connected neural network with an input layer of the shape *28X28*, a hidden layer of 128 neurons and an output layer of 10 neurons which must be equal the number of classes."
      ],
      "metadata": {
        "id": "7Iju3Syh6JqZ"
      }
    },
    {
      "cell_type": "code",
      "source": [
        "model_1 = tf.keras.Sequential([\n",
        "                               tf.keras.layers.Flatten(input_shape=(28, 28)),\n",
        "                               tf.keras.layers.Dense(128, activation=\"ReLU\"),\n",
        "                               tf.keras.layers.Dense(10, activation=\"softmax\")\n",
        "])"
      ],
      "metadata": {
        "id": "oqWStKuL4gJA"
      },
      "execution_count": 15,
      "outputs": []
    },
    {
      "cell_type": "code",
      "source": [
        "model_1.compile(optimizer = tf.keras.optimizers.Adam(),\n",
        "                loss = tf.keras.losses.SparseCategoricalCrossentropy(),\n",
        "                metrics= ['accuracy'])"
      ],
      "metadata": {
        "id": "HexvozYC56Vq"
      },
      "execution_count": 16,
      "outputs": []
    },
    {
      "cell_type": "code",
      "source": [
        "model_1.summary()"
      ],
      "metadata": {
        "colab": {
          "base_uri": "https://localhost:8080/"
        },
        "id": "x_WTQeSN6Rh_",
        "outputId": "c105a23f-5111-439b-eabf-3c089faceae7"
      },
      "execution_count": 17,
      "outputs": [
        {
          "output_type": "stream",
          "name": "stdout",
          "text": [
            "Model: \"sequential\"\n",
            "_________________________________________________________________\n",
            " Layer (type)                Output Shape              Param #   \n",
            "=================================================================\n",
            " flatten (Flatten)           (None, 784)               0         \n",
            "                                                                 \n",
            " dense (Dense)               (None, 128)               100480    \n",
            "                                                                 \n",
            " dense_1 (Dense)             (None, 10)                1290      \n",
            "                                                                 \n",
            "=================================================================\n",
            "Total params: 101,770\n",
            "Trainable params: 101,770\n",
            "Non-trainable params: 0\n",
            "_________________________________________________________________\n"
          ]
        }
      ]
    },
    {
      "cell_type": "code",
      "source": [
        "%%time\n",
        "history_1 = model_1.fit(train_images,\n",
        "                        train_labels,\n",
        "                        validation_split=0.20,\n",
        "                        epochs=5)"
      ],
      "metadata": {
        "colab": {
          "base_uri": "https://localhost:8080/"
        },
        "id": "LcZJjAo26Ud7",
        "outputId": "a77ae03b-1736-4e18-e178-2bbf6b46f3b5"
      },
      "execution_count": 18,
      "outputs": [
        {
          "output_type": "stream",
          "name": "stdout",
          "text": [
            "Epoch 1/5\n",
            "1500/1500 [==============================] - 7s 3ms/step - loss: 0.5236 - accuracy: 0.8174 - val_loss: 0.4200 - val_accuracy: 0.8548\n",
            "Epoch 2/5\n",
            "1500/1500 [==============================] - 4s 3ms/step - loss: 0.3883 - accuracy: 0.8609 - val_loss: 0.3730 - val_accuracy: 0.8668\n",
            "Epoch 3/5\n",
            "1500/1500 [==============================] - 4s 3ms/step - loss: 0.3478 - accuracy: 0.8735 - val_loss: 0.3624 - val_accuracy: 0.8727\n",
            "Epoch 4/5\n",
            "1500/1500 [==============================] - 4s 3ms/step - loss: 0.3220 - accuracy: 0.8823 - val_loss: 0.3852 - val_accuracy: 0.8563\n",
            "Epoch 5/5\n",
            "1500/1500 [==============================] - 4s 2ms/step - loss: 0.3031 - accuracy: 0.8876 - val_loss: 0.3426 - val_accuracy: 0.8749\n",
            "CPU times: user 23.3 s, sys: 2.16 s, total: 25.5 s\n",
            "Wall time: 42 s\n"
          ]
        }
      ]
    },
    {
      "cell_type": "code",
      "source": [
        "model_1.evaluate(test_images, test_labels)"
      ],
      "metadata": {
        "colab": {
          "base_uri": "https://localhost:8080/"
        },
        "id": "tumvrkED8cG2",
        "outputId": "8bc8d826-996d-41b6-d91f-7f7282095262"
      },
      "execution_count": 19,
      "outputs": [
        {
          "output_type": "stream",
          "name": "stdout",
          "text": [
            "313/313 [==============================] - 1s 3ms/step - loss: 0.3609 - accuracy: 0.8714\n"
          ]
        },
        {
          "output_type": "execute_result",
          "data": {
            "text/plain": [
              "[0.3608885109424591, 0.871399998664856]"
            ]
          },
          "metadata": {},
          "execution_count": 19
        }
      ]
    },
    {
      "cell_type": "code",
      "source": [
        "test_loss, test_acc = model_1.evaluate(test_images, test_labels)\n",
        "\n",
        "print('Test loss:', test_loss)\n",
        "print('Test accuracy:', test_acc)"
      ],
      "metadata": {
        "colab": {
          "base_uri": "https://localhost:8080/"
        },
        "id": "Hz9tNQJd8lvg",
        "outputId": "5b01da46-d2cc-4fbc-dc2f-6a63576cc278"
      },
      "execution_count": 20,
      "outputs": [
        {
          "output_type": "stream",
          "name": "stdout",
          "text": [
            "313/313 [==============================] - 1s 3ms/step - loss: 0.3609 - accuracy: 0.8714\n",
            "Test loss: 0.3608885109424591\n",
            "Test accuracy: 0.871399998664856\n"
          ]
        }
      ]
    },
    {
      "cell_type": "code",
      "source": [
        "def plot_accuracy_and_loss(history):\n",
        "  accuracy_label = 'accuracy' if 'accuracy' in history.history else 'acc'\n",
        "  # Plot training & validation accuracy values\n",
        "  plt.plot(history.history[accuracy_label])\n",
        "  plt.plot(history.history['val_'+accuracy_label])\n",
        "  plt.title('Accuracy')\n",
        "  plt.ylabel('Accuracy')\n",
        "  plt.xlabel('Epoch')\n",
        "  plt.legend(['Train', 'Validation'], loc='upper left')\n",
        "  plt.show()\n",
        "\n",
        "  # Plot training & validation loss values\n",
        "  plt.plot(history.history['loss'])\n",
        "  plt.plot(history.history['val_loss'])\n",
        "  plt.title('Loss')\n",
        "  plt.ylabel('Loss')\n",
        "  plt.xlabel('Epoch')\n",
        "  plt.legend(['Train', 'Validation'], loc='upper left')\n",
        "  plt.show()\n",
        "\n",
        "plot_accuracy_and_loss(history_1)  "
      ],
      "metadata": {
        "colab": {
          "base_uri": "https://localhost:8080/",
          "height": 573
        },
        "id": "AssIGrmW7hKf",
        "outputId": "53b139ff-a1d9-4bf3-8aef-4a4e78086e64"
      },
      "execution_count": 21,
      "outputs": [
        {
          "output_type": "display_data",
          "data": {
            "text/plain": [
              "<Figure size 432x288 with 1 Axes>"
            ],
            "image/png": "[encoded data removed]"
          },
          "metadata": {
            "needs_background": "light"
          }
        },
        {
          "output_type": "display_data",
          "data": {
            "text/plain": [
              "<Figure size 432x288 with 1 Axes>"
            ],
            "image/png": "[encoded data removed]"
          },
          "metadata": {
            "needs_background": "light"
          }
        }
      ]
    },
    {
      "cell_type": "code",
      "source": [
        "model_1_predictions = model_1.predict(test_images)\n",
        "model_1_predictions.shape"
      ],
      "metadata": {
        "colab": {
          "base_uri": "https://localhost:8080/"
        },
        "id": "6yB06s518HQO",
        "outputId": "2511ec0b-afaa-458a-a1a4-fa474f10e507"
      },
      "execution_count": 37,
      "outputs": [
        {
          "output_type": "execute_result",
          "data": {
            "text/plain": [
              "(10000, 10)"
            ]
          },
          "metadata": {},
          "execution_count": 37
        }
      ]
    },
    {
      "cell_type": "code",
      "source": [
        "#Argmax function returns the index of the highest value in an array\n",
        "model_1_predictions[1].argmax()"
      ],
      "metadata": {
        "colab": {
          "base_uri": "https://localhost:8080/"
        },
        "id": "E2P0MslO9Qmj",
        "outputId": "6745a793-13da-4e27-a6d1-167962e95b9f"
      },
      "execution_count": 38,
      "outputs": [
        {
          "output_type": "execute_result",
          "data": {
            "text/plain": [
              "2"
            ]
          },
          "metadata": {},
          "execution_count": 38
        }
      ]
    },
    {
      "cell_type": "code",
      "source": [
        "test_labels[1]"
      ],
      "metadata": {
        "colab": {
          "base_uri": "https://localhost:8080/"
        },
        "id": "nn9o_z4I9lL-",
        "outputId": "c98a75ae-b857-4384-a8a1-532aa2905e6e"
      },
      "execution_count": 25,
      "outputs": [
        {
          "output_type": "execute_result",
          "data": {
            "text/plain": [
              "2"
            ]
          },
          "metadata": {},
          "execution_count": 25
        }
      ]
    },
    {
      "cell_type": "code",
      "source": [
        "#Predictions on 10 random images in our model\n",
        "a = random.randrange(0, 9000, 1)\n",
        "\n",
        "for i in range(a, a+10):\n",
        "    print(\"Predicted Label: \", model_1_predictions[i].argmax(), class_names[model_1_predictions[i].argmax()])\n",
        "    print(\"True label.....: \", test_labels[i], class_names[test_labels[i]])\n",
        "    print(\"-----------------\")"
      ],
      "metadata": {
        "colab": {
          "base_uri": "https://localhost:8080/"
        },
        "id": "GIGIgmJz-E1_",
        "outputId": "406b2a0f-64b2-462e-893d-dcf2dd257348"
      },
      "execution_count": 39,
      "outputs": [
        {
          "output_type": "stream",
          "name": "stdout",
          "text": [
            "Predicted Label:  4 Coat\n",
            "True label.....:  4 Coat\n",
            "-----------------\n",
            "Predicted Label:  3 Dress\n",
            "True label.....:  3 Dress\n",
            "-----------------\n",
            "Predicted Label:  4 Coat\n",
            "True label.....:  4 Coat\n",
            "-----------------\n",
            "Predicted Label:  2 Pullover\n",
            "True label.....:  4 Coat\n",
            "-----------------\n",
            "Predicted Label:  5 Sandal\n",
            "True label.....:  5 Sandal\n",
            "-----------------\n",
            "Predicted Label:  1 Trouser\n",
            "True label.....:  1 Trouser\n",
            "-----------------\n",
            "Predicted Label:  3 Dress\n",
            "True label.....:  0 T-shirt/top\n",
            "-----------------\n",
            "Predicted Label:  1 Trouser\n",
            "True label.....:  1 Trouser\n",
            "-----------------\n",
            "Predicted Label:  2 Pullover\n",
            "True label.....:  2 Pullover\n",
            "-----------------\n",
            "Predicted Label:  0 T-shirt/top\n",
            "True label.....:  0 T-shirt/top\n",
            "-----------------\n"
          ]
        }
      ]
    },
    {
      "cell_type": "code",
      "source": [
        "from sklearn.utils.multiclass import unique_labels\n",
        "\n",
        "unique = unique_labels(test_labels, model_1_predictions.argmax())\n",
        "\n",
        "unique"
      ],
      "metadata": {
        "colab": {
          "base_uri": "https://localhost:8080/"
        },
        "id": "vTT8LMQYc4-H",
        "outputId": "b1b2d5ab-43b1-4324-a1f7-298c51d34946"
      },
      "execution_count": 40,
      "outputs": [
        {
          "output_type": "execute_result",
          "data": {
            "text/plain": [
              "array([  0,   1,   2,   3,   4,   5,   6,   7,   8,   9, 761])"
            ]
          },
          "metadata": {},
          "execution_count": 40
        }
      ]
    },
    {
      "cell_type": "code",
      "source": [
        "def plot_single_image_correct(i, predictions, true_labels, images, class_names=None, cmap=plt.cm.binary):\n",
        "  predictions_array, true_label, img = predictions[i], true_labels[i], images[i]\n",
        "  plt.grid(False)\n",
        "  plt.xticks([])\n",
        "  plt.yticks([])\n",
        "  \n",
        "  plt.imshow(img, cmap=cmap)\n",
        "  \n",
        "  predicted_label = np.argmax(predictions_array)\n",
        "  if predicted_label == true_label:\n",
        "    color = 'blue'\n",
        "  else:\n",
        "    color = 'red'\n",
        "  \n",
        "  class_name = true_label if class_names is None else class_names[true_label]\n",
        "  class_name_predicted = predicted_label if class_names is None else class_names[predicted_label]\n",
        "  plt.xlabel(\"{} {:2.0f}% ({})\".format(class_name_predicted,\n",
        "                                100*np.max(predictions_array),\n",
        "                                class_name),\n",
        "                                color=color)\n",
        "\n",
        "# plot_single_image_correct(12, predictions, test_labels, test_images)\n",
        "\n",
        "def plot_value_array(i, predictions, true_labels):\n",
        "  predictions_array, true_label = predictions[i], true_labels[i]\n",
        "  plt.grid(False)\n",
        "  plt.xticks([])\n",
        "  plt.yticks([])\n",
        "  thisplot = plt.bar(range(10), predictions_array, color=\"#777777\")\n",
        "  plt.ylim([0, 1])\n",
        "  predicted_label = np.argmax(predictions_array)\n",
        "  \n",
        "  thisplot[predicted_label].set_color('red')\n",
        "  thisplot[true_label].set_color('blue')\n",
        "\n",
        "# plot_value_array(2, predictions, test_labels)"
      ],
      "metadata": {
        "id": "TlA31kdwgAeq"
      },
      "execution_count": 41,
      "outputs": []
    },
    {
      "cell_type": "code",
      "source": [
        "def plot_image_and_prob(predictions, test_labels, test_images, class_names=None, i = 0, cmap=plt.cm.binary,big=False):\n",
        "  if(big == True):\n",
        "    plot_single_image_correct(i, predictions, test_labels, test_images, class_names, cmap=cmap)\n",
        "    plt.show()\n",
        "    plot_value_array(i, predictions, test_labels)\n",
        "    rng = range(len(unique_labels(test_labels)))\n",
        "    clsnms = rng if class_names is None else class_names \n",
        "    plt.xticks(rng, clsnms, rotation=45)\n",
        "    plt.show()\n",
        "  else:\n",
        "    plt.figure(figsize=(6,3))\n",
        "    plt.subplot(1,2,1)\n",
        "    plot_single_image_correct(i, predictions, test_labels, test_images, class_names, cmap=cmap)\n",
        "    plt.subplot(1,2,2)\n",
        "    plot_value_array(i, predictions,  test_labels)\n",
        "    plt.show()\n",
        "\n",
        "plot_image_and_prob(model_1_predictions, test_labels, test_images, big=True, class_names=class_names, i=222)"
      ],
      "metadata": {
        "colab": {
          "base_uri": "https://localhost:8080/",
          "height": 545
        },
        "id": "NA6tgt8gcn6y",
        "outputId": "bd6f79c8-6ad4-4c46-dcce-6e4123434c83"
      },
      "execution_count": 95,
      "outputs": [
        {
          "output_type": "display_data",
          "data": {
            "text/plain": [
              "<Figure size 432x288 with 1 Axes>"
            ],
            "image/png": "[encoded data removed]"
          },
          "metadata": {}
        },
        {
          "output_type": "display_data",
          "data": {
            "text/plain": [
              "<Figure size 432x288 with 1 Axes>"
            ],
            "image/png": "[encoded data removed]"
          },
          "metadata": {
            "needs_background": "light"
          }
        }
      ]
    },
    {
      "cell_type": "code",
      "source": [
        "#Plots first 15 images\n",
        "def plot_multi_images_prob(predictions, labels, images, class_names=None, start=0, num_rows=5, num_cols=3, cmap=plt.cm.binary ):\n",
        "  num_rows = 5\n",
        "  num_cols = 3\n",
        "  num_images = num_rows*num_cols\n",
        "  plt.figure(figsize=(2*2*num_cols, 2*num_rows))\n",
        "  for i in range(num_images):\n",
        "    index = i + start\n",
        "    plt.subplot(num_rows, 2*num_cols, 2*i+1)\n",
        "    plot_single_image_correct(index, predictions, labels, images, class_names, cmap=cmap)\n",
        "    plt.subplot(num_rows, 2*num_cols, 2*i+2)\n",
        "    plot_value_array(index, predictions, labels)\n",
        "  plt.show()\n",
        "\n",
        "plot_multi_images_prob(model_1_predictions, test_labels, test_images, class_names=class_names, cmap=plt.cm.binary)"
      ],
      "metadata": {
        "colab": {
          "base_uri": "https://localhost:8080/",
          "height": 589
        },
        "id": "GQqJdiGOcufy",
        "outputId": "dfbbc0dd-764c-4c9a-a9da-2abd51432c93"
      },
      "execution_count": 43,
      "outputs": [
        {
          "output_type": "display_data",
          "data": {
            "text/plain": [
              "<Figure size 864x720 with 30 Axes>"
            ],
            "image/png": "[encoded data removed]"
          },
          "metadata": {}
        }
      ]
    },
    {
      "cell_type": "code",
      "source": [
        "history_1.history"
      ],
      "metadata": {
        "colab": {
          "base_uri": "https://localhost:8080/"
        },
        "id": "zfFLHmuaf2Ii",
        "outputId": "643d7675-58aa-42f4-940e-467f655cdc3f"
      },
      "execution_count": 44,
      "outputs": [
        {
          "output_type": "execute_result",
          "data": {
            "text/plain": [
              "{'accuracy': [0.8173750042915344,\n",
              "  0.8608750104904175,\n",
              "  0.8735208511352539,\n",
              "  0.8823333382606506,\n",
              "  0.8875625133514404],\n",
              " 'loss': [0.5236265063285828,\n",
              "  0.388338178396225,\n",
              "  0.34776073694229126,\n",
              "  0.3219543993473053,\n",
              "  0.30310937762260437],\n",
              " 'val_accuracy': [0.8548333048820496,\n",
              "  0.8668333292007446,\n",
              "  0.8726666569709778,\n",
              "  0.856333315372467,\n",
              "  0.874916672706604],\n",
              " 'val_loss': [0.419968843460083,\n",
              "  0.37301525473594666,\n",
              "  0.3623696565628052,\n",
              "  0.38520723581314087,\n",
              "  0.3425910174846649]}"
            ]
          },
          "metadata": {},
          "execution_count": 44
        }
      ]
    },
    {
      "cell_type": "code",
      "source": [
        "\"\"\"\"\n",
        "    Takes random 25 images from test_images and prints with green title if the\n",
        "    model predicted them right and with red title if model was wrong\n",
        "\"\"\"\n",
        "figure = plt.figure(figsize=(20, 8))\n",
        "for i, index in enumerate(np.random.choice(test_images.shape[0], size=15, replace=False)):\n",
        "    ax = figure.add_subplot(3, 5, i+1, xticks=[], yticks=[])\n",
        "    #Display each image\n",
        "    ax.imshow(np.squeeze(test_images[index]), cmap=plt.cm.binary)\n",
        "    predict_index = np.argmax(model_1_predictions[index])\n",
        "    true_index = np.argmax(test_labels[index])\n",
        "    #Set the title for each image\n",
        "    ax.set_title(\"{} ({})\".format(class_names[predict_index],\n",
        "                                  class_names[true_index]),\n",
        "                 color=(\"green\" if predict_index == true_index else \"red\"))"
      ],
      "metadata": {
        "colab": {
          "base_uri": "https://localhost:8080/",
          "height": 485
        },
        "id": "_AQzYYl_avpQ",
        "outputId": "06349404-b347-4afd-fb9e-644ecb690f6a"
      },
      "execution_count": 50,
      "outputs": [
        {
          "output_type": "display_data",
          "data": {
            "text/plain": [
              "<Figure size 1440x576 with 15 Axes>"
            ],
            "image/png": "[encoded data removed]"
          },
          "metadata": {}
        }
      ]
    },
    {
      "cell_type": "markdown",
      "source": [
        "# Model 2 : Change Activation function\n",
        "\n",
        "A model with a different activation fucntion for output layer"
      ],
      "metadata": {
        "id": "PmYAU1ur7TXn"
      }
    },
    {
      "cell_type": "code",
      "source": [
        "#Change the activation fucntion for output layer and train for longer\n",
        "\n",
        "model_2 = tf.keras.Sequential([\n",
        "                               tf.keras.layers.Flatten(input_shape=(28, 28)),\n",
        "                               tf.keras.layers.Dense(128, activation=\"ReLU\"),\n",
        "                               tf.keras.layers.Dense(10, activation=\"sigmoid\")\n",
        "])\n",
        "\n",
        "model_2.compile(optimizer = tf.keras.optimizers.Adam(),\n",
        "                loss = tf.keras.losses.SparseCategoricalCrossentropy(),\n",
        "                metrics= ['accuracy'])\n",
        "\n",
        "history_2 = model_2.fit(train_images,\n",
        "                        train_labels,\n",
        "                        validation_split=0.20,\n",
        "                        epochs=10)"
      ],
      "metadata": {
        "colab": {
          "base_uri": "https://localhost:8080/"
        },
        "id": "7Jzk4s7uh3s5",
        "outputId": "9274c3f5-1808-4320-835b-06f0b484e08b"
      },
      "execution_count": 51,
      "outputs": [
        {
          "output_type": "stream",
          "name": "stdout",
          "text": [
            "Epoch 1/10\n",
            "1500/1500 [==============================] - 4s 3ms/step - loss: 0.5193 - accuracy: 0.8190 - val_loss: 0.4038 - val_accuracy: 0.8568\n",
            "Epoch 2/10\n",
            "1500/1500 [==============================] - 4s 3ms/step - loss: 0.3901 - accuracy: 0.8595 - val_loss: 0.3851 - val_accuracy: 0.8605\n",
            "Epoch 3/10\n",
            "1500/1500 [==============================] - 4s 3ms/step - loss: 0.3476 - accuracy: 0.8739 - val_loss: 0.3739 - val_accuracy: 0.8673\n",
            "Epoch 4/10\n",
            "1500/1500 [==============================] - 4s 3ms/step - loss: 0.3221 - accuracy: 0.8825 - val_loss: 0.3411 - val_accuracy: 0.8775\n",
            "Epoch 5/10\n",
            "1500/1500 [==============================] - 4s 3ms/step - loss: 0.3059 - accuracy: 0.8882 - val_loss: 0.3530 - val_accuracy: 0.8716\n",
            "Epoch 6/10\n",
            "1500/1500 [==============================] - 4s 3ms/step - loss: 0.2874 - accuracy: 0.8939 - val_loss: 0.3637 - val_accuracy: 0.8731\n",
            "Epoch 7/10\n",
            "1500/1500 [==============================] - 4s 3ms/step - loss: 0.2738 - accuracy: 0.8984 - val_loss: 0.3450 - val_accuracy: 0.8783\n",
            "Epoch 8/10\n",
            "1500/1500 [==============================] - 4s 3ms/step - loss: 0.2634 - accuracy: 0.9031 - val_loss: 0.3227 - val_accuracy: 0.8853\n",
            "Epoch 9/10\n",
            "1500/1500 [==============================] - 4s 3ms/step - loss: 0.2532 - accuracy: 0.9062 - val_loss: 0.3187 - val_accuracy: 0.8849\n",
            "Epoch 10/10\n",
            "1500/1500 [==============================] - 4s 3ms/step - loss: 0.2434 - accuracy: 0.9100 - val_loss: 0.3257 - val_accuracy: 0.8865\n"
          ]
        }
      ]
    },
    {
      "cell_type": "code",
      "source": [
        "plot_accuracy_and_loss(history_2)"
      ],
      "metadata": {
        "colab": {
          "base_uri": "https://localhost:8080/",
          "height": 573
        },
        "id": "r-pwoTyAkyCe",
        "outputId": "ad4a40aa-b3a4-47da-a5b5-6cfd9c4a1cd7"
      },
      "execution_count": 52,
      "outputs": [
        {
          "output_type": "display_data",
          "data": {
            "text/plain": [
              "<Figure size 432x288 with 1 Axes>"
            ],
            "image/png": "[encoded data removed]"
          },
          "metadata": {
            "needs_background": "light"
          }
        },
        {
          "output_type": "display_data",
          "data": {
            "text/plain": [
              "<Figure size 432x288 with 1 Axes>"
            ],
            "image/png": "[encoded data removed]"
          },
          "metadata": {
            "needs_background": "light"
          }
        }
      ]
    },
    {
      "cell_type": "markdown",
      "source": [
        "# Model 3 CNN\n",
        "\n",
        "Now we are going to build models with convolutional neural networks.\n",
        "\n",
        "CNNs are a special type of neural networks which use convolution and pooling layers. These types of neural networks work best with image datasets."
      ],
      "metadata": {
        "id": "v23SFie7erND"
      }
    },
    {
      "cell_type": "code",
      "source": [
        "model_3 = tf.keras.models.Sequential([\n",
        "                                      tf.keras.layers.Conv2D(filters=32,\n",
        "                                                             kernel_size=(3, 3),\n",
        "                                                             strides=(1, 1),\n",
        "                                                             padding='valid',\n",
        "                                                             activation='relu',\n",
        "                                                             input_shape=(28, 28, 1)),\n",
        "                                      tf.keras.layers.MaxPooling2D(pool_size=(2, 2,), strides=(2, 2)),\n",
        "                                      tf.keras.layers.Dropout(rate=0.25),\n",
        "                                      tf.keras.layers.Flatten(),\n",
        "                                      tf.keras.layers.Dense(128, activation=\"ReLU\"),\n",
        "                                      tf.keras.layers.Dense(10, activation=\"softmax\")\n",
        "])\n",
        "\n",
        "model_3.compile(\n",
        "    loss=tf.keras.losses.sparse_categorical_crossentropy,\n",
        "    optimizer=tf.keras.optimizers.Adam(),\n",
        "    metrics=['accuracy']\n",
        ")\n",
        "\n",
        "history_3 = model_3.fit(train_images,\n",
        "                        train_labels,\n",
        "                        validation_split=0.20,\n",
        "                        epochs=5)"
      ],
      "metadata": {
        "colab": {
          "base_uri": "https://localhost:8080/"
        },
        "id": "OEJV4jtPn8YZ",
        "outputId": "98c51486-db9e-4f69-ac6a-1af3ab5b443a"
      },
      "execution_count": 53,
      "outputs": [
        {
          "output_type": "stream",
          "name": "stdout",
          "text": [
            "Epoch 1/5\n",
            "1500/1500 [==============================] - 13s 3ms/step - loss: 0.4210 - accuracy: 0.8498 - val_loss: 0.3032 - val_accuracy: 0.8938\n",
            "Epoch 2/5\n",
            "1500/1500 [==============================] - 5s 3ms/step - loss: 0.2934 - accuracy: 0.8924 - val_loss: 0.2874 - val_accuracy: 0.8974\n",
            "Epoch 3/5\n",
            "1500/1500 [==============================] - 5s 3ms/step - loss: 0.2495 - accuracy: 0.9083 - val_loss: 0.2651 - val_accuracy: 0.9043\n",
            "Epoch 4/5\n",
            "1500/1500 [==============================] - 4s 3ms/step - loss: 0.2189 - accuracy: 0.9185 - val_loss: 0.2517 - val_accuracy: 0.9087\n",
            "Epoch 5/5\n",
            "1500/1500 [==============================] - 5s 3ms/step - loss: 0.1924 - accuracy: 0.9284 - val_loss: 0.2320 - val_accuracy: 0.9151\n"
          ]
        }
      ]
    },
    {
      "cell_type": "markdown",
      "source": [
        "# Model 4: Changing Padding\n",
        "\n",
        "Now we will change the padding to same and we will also try reshaping our data by adding one dimension"
      ],
      "metadata": {
        "id": "DWWwlIfa7c51"
      }
    },
    {
      "cell_type": "code",
      "source": [
        "model_4 = tf.keras.models.Sequential([\n",
        "                                      tf.keras.layers.Conv2D(filters=32,\n",
        "                                                             kernel_size=(3, 3),\n",
        "                                                             strides=(1, 1),\n",
        "                                                             padding='same',\n",
        "                                                             activation='relu',\n",
        "                                                             input_shape=(28, 28, 1)),\n",
        "                                      tf.keras.layers.MaxPooling2D(pool_size=(2, 2,), strides=(2, 2)),\n",
        "                                      tf.keras.layers.Dropout(rate=0.25),\n",
        "                                      tf.keras.layers.Flatten(),\n",
        "                                      tf.keras.layers.Dense(128, activation=\"ReLU\"),\n",
        "                                      tf.keras.layers.Dense(10, activation=\"softmax\")\n",
        "])\n",
        "\n",
        "model_4.compile(\n",
        "    loss=tf.keras.losses.sparse_categorical_crossentropy,\n",
        "    optimizer=tf.keras.optimizers.Adam(),\n",
        "    metrics=['accuracy'])\n",
        "\n",
        "x_train = np.expand_dims(train_images, -1)\n",
        "x_test = np.expand_dims(test_images, -1)\n",
        "\n",
        "\n",
        "history_4 = model_4.fit(x_train,\n",
        "                        train_labels,\n",
        "                        validation_split=0.20,\n",
        "                        epochs=5)"
      ],
      "metadata": {
        "colab": {
          "base_uri": "https://localhost:8080/"
        },
        "id": "1EE403rfp4zh",
        "outputId": "098ad6f3-d5ea-4d8e-b837-513f9d6dbdd9"
      },
      "execution_count": 54,
      "outputs": [
        {
          "output_type": "stream",
          "name": "stdout",
          "text": [
            "Epoch 1/5\n",
            "1500/1500 [==============================] - 5s 3ms/step - loss: 0.4045 - accuracy: 0.8540 - val_loss: 0.3022 - val_accuracy: 0.8888\n",
            "Epoch 2/5\n",
            "1500/1500 [==============================] - 5s 3ms/step - loss: 0.2818 - accuracy: 0.8967 - val_loss: 0.2791 - val_accuracy: 0.8991\n",
            "Epoch 3/5\n",
            "1500/1500 [==============================] - 5s 3ms/step - loss: 0.2399 - accuracy: 0.9114 - val_loss: 0.2496 - val_accuracy: 0.9087\n",
            "Epoch 4/5\n",
            "1500/1500 [==============================] - 5s 3ms/step - loss: 0.2075 - accuracy: 0.9230 - val_loss: 0.2441 - val_accuracy: 0.9123\n",
            "Epoch 5/5\n",
            "1500/1500 [==============================] - 4s 3ms/step - loss: 0.1856 - accuracy: 0.9307 - val_loss: 0.2555 - val_accuracy: 0.9083\n"
          ]
        }
      ]
    },
    {
      "cell_type": "code",
      "source": [
        "train_images.shape, x_train.shape"
      ],
      "metadata": {
        "colab": {
          "base_uri": "https://localhost:8080/"
        },
        "id": "cTKwd6FIrNrF",
        "outputId": "8d63d29a-9305-43a2-d57b-c175aaf4500f"
      },
      "execution_count": 55,
      "outputs": [
        {
          "output_type": "execute_result",
          "data": {
            "text/plain": [
              "((60000, 28, 28), (60000, 28, 28, 1))"
            ]
          },
          "metadata": {},
          "execution_count": 55
        }
      ]
    },
    {
      "cell_type": "code",
      "source": [
        "model_3_predictions = model_3.predict(test_images)\n",
        "model_3_predictions[120].argmax()"
      ],
      "metadata": {
        "id": "4DJf3_6nrmoA",
        "colab": {
          "base_uri": "https://localhost:8080/"
        },
        "outputId": "e01343a1-f858-4b72-d194-ee7dbd2f5092"
      },
      "execution_count": 56,
      "outputs": [
        {
          "output_type": "execute_result",
          "data": {
            "text/plain": [
              "0"
            ]
          },
          "metadata": {},
          "execution_count": 56
        }
      ]
    },
    {
      "cell_type": "code",
      "source": [
        "model_4_predictions = model_4.predict(x_test)\n",
        "model_4_predictions[120].argmax()"
      ],
      "metadata": {
        "colab": {
          "base_uri": "https://localhost:8080/"
        },
        "id": "WndZxQZN7dFG",
        "outputId": "a2806e62-e30a-45f0-9b9a-199ece01955c"
      },
      "execution_count": 57,
      "outputs": [
        {
          "output_type": "execute_result",
          "data": {
            "text/plain": [
              "0"
            ]
          },
          "metadata": {},
          "execution_count": 57
        }
      ]
    },
    {
      "cell_type": "code",
      "source": [
        "model_3_predictions.shape, model_4_predictions.shape"
      ],
      "metadata": {
        "colab": {
          "base_uri": "https://localhost:8080/"
        },
        "id": "Oq1fFKBQ71cO",
        "outputId": "c0184496-be56-432a-bc7a-208576f4b168"
      },
      "execution_count": 58,
      "outputs": [
        {
          "output_type": "execute_result",
          "data": {
            "text/plain": [
              "((10000, 10), (10000, 10))"
            ]
          },
          "metadata": {},
          "execution_count": 58
        }
      ]
    },
    {
      "cell_type": "markdown",
      "source": [
        "Hmmm.....didn't work out.\n",
        "\n",
        "Now we will keep the padding same but reduce the learning rate and train for a little longer,"
      ],
      "metadata": {
        "id": "UvsCWR3igzDK"
      }
    },
    {
      "cell_type": "markdown",
      "source": [
        "# Model 5: Tweaking Learning Rate\n",
        "\n",
        "We will reduce the learning rate to 0.001, train for 5 epochs more and will also increase the number of neurons in dense layer to 512.\n",
        "\n",
        "Also we will use a seperate validation dataset rather than splitting our training data by 20%, will give our model more data to train and validate"
      ],
      "metadata": {
        "id": "6tBxGa5Lg8hi"
      }
    },
    {
      "cell_type": "code",
      "source": [
        "%%time\n",
        "# Set the seed\n",
        "tf.random.set_seed(42)\n",
        "\n",
        "model_5 = tf.keras.models.Sequential([\n",
        "                                      tf.keras.layers.Conv2D(filters=32,\n",
        "                                                             kernel_size=(3, 3),\n",
        "                                                             strides=(1, 1),\n",
        "                                                             padding='valid',\n",
        "                                                             activation='relu',\n",
        "                                                             input_shape=(28, 28, 1)),\n",
        "                                      tf.keras.layers.MaxPooling2D(pool_size=(2, 2,), strides=(2, 2)),\n",
        "                                      tf.keras.layers.Dropout(rate=0.25),\n",
        "                                      tf.keras.layers.Flatten(),\n",
        "                                      tf.keras.layers.Dense(512, activation=\"relu\"),\n",
        "                                      tf.keras.layers.Dense(10, activation=\"softmax\")\n",
        "])\n",
        "\n",
        "model_5.compile(\n",
        "    loss=tf.keras.losses.sparse_categorical_crossentropy,\n",
        "    optimizer=tf.keras.optimizers.Adam(learning_rate=0.001),\n",
        "    metrics=['accuracy']\n",
        ")\n",
        "\n",
        "history_5 = model_5.fit(train_images,\n",
        "                        train_labels,\n",
        "                        validation_data=(test_images, test_labels),\n",
        "                        validation_steps=0.5*len(test_images),\n",
        "                        epochs=10)"
      ],
      "metadata": {
        "colab": {
          "base_uri": "https://localhost:8080/"
        },
        "id": "seSZ9hZGhBTv",
        "outputId": "17489b3f-c7bf-4d95-9256-d44e871c60e4"
      },
      "execution_count": 61,
      "outputs": [
        {
          "output_type": "stream",
          "name": "stdout",
          "text": [
            "Epoch 1/10\n",
            "1875/1875 [==============================] - 13s 7ms/step - loss: 0.3861 - accuracy: 0.8611 - val_loss: 0.3056 - val_accuracy: 0.8902\n",
            "Epoch 2/10\n",
            "1875/1875 [==============================] - 15s 8ms/step - loss: 0.2641 - accuracy: 0.9024 - val_loss: 0.2899 - val_accuracy: 0.8936\n",
            "Epoch 3/10\n",
            "1875/1875 [==============================] - 13s 7ms/step - loss: 0.2198 - accuracy: 0.9177 - val_loss: 0.2523 - val_accuracy: 0.9069\n",
            "Epoch 4/10\n",
            "1875/1875 [==============================] - 13s 7ms/step - loss: 0.1855 - accuracy: 0.9305 - val_loss: 0.2462 - val_accuracy: 0.9124\n",
            "Epoch 5/10\n",
            "1875/1875 [==============================] - 16s 8ms/step - loss: 0.1584 - accuracy: 0.9394 - val_loss: 0.2494 - val_accuracy: 0.9170\n",
            "Epoch 6/10\n",
            "1875/1875 [==============================] - 15s 8ms/step - loss: 0.1366 - accuracy: 0.9493 - val_loss: 0.2761 - val_accuracy: 0.9077\n",
            "Epoch 7/10\n",
            "1875/1875 [==============================] - 15s 8ms/step - loss: 0.1154 - accuracy: 0.9560 - val_loss: 0.2622 - val_accuracy: 0.9194\n",
            "Epoch 8/10\n",
            "1875/1875 [==============================] - 15s 8ms/step - loss: 0.0999 - accuracy: 0.9628 - val_loss: 0.2718 - val_accuracy: 0.9218\n",
            "Epoch 9/10\n",
            "1875/1875 [==============================] - 13s 7ms/step - loss: 0.0873 - accuracy: 0.9672 - val_loss: 0.2856 - val_accuracy: 0.9187\n",
            "Epoch 10/10\n",
            "1875/1875 [==============================] - 13s 7ms/step - loss: 0.0780 - accuracy: 0.9708 - val_loss: 0.2995 - val_accuracy: 0.9187\n",
            "CPU times: user 2min 25s, sys: 11.6 s, total: 2min 37s\n",
            "Wall time: 2min 22s\n"
          ]
        }
      ]
    },
    {
      "cell_type": "markdown",
      "source": [
        "# Model 6: CNN model\n",
        "\n",
        "Same as model 3 but with seperate validation dataset but lesser validation steps than model 5."
      ],
      "metadata": {
        "id": "BdyCmcN675dM"
      }
    },
    {
      "cell_type": "code",
      "source": [
        "%%time\n",
        "model_6 = tf.keras.models.Sequential([\n",
        "                                      tf.keras.layers.Conv2D(filters=32,\n",
        "                                                             kernel_size=(3, 3),\n",
        "                                                             padding='valid',\n",
        "                                                             activation='relu',\n",
        "                                                             input_shape=(28, 28, 1)),\n",
        "                                      tf.keras.layers.MaxPooling2D(pool_size=(2, 2,), strides=(2, 2)),\n",
        "                                      tf.keras.layers.Dropout(rate=0.25),\n",
        "                                      tf.keras.layers.Flatten(),\n",
        "                                      tf.keras.layers.Dense(128, activation=\"ReLU\"),\n",
        "                                      tf.keras.layers.Dense(10, activation=\"softmax\")\n",
        "])\n",
        "\n",
        "model_6.compile(\n",
        "    loss=tf.keras.losses.sparse_categorical_crossentropy,\n",
        "    optimizer=tf.keras.optimizers.Adam(),\n",
        "    metrics=['accuracy']\n",
        ")\n",
        "\n",
        "history_6 = model_6.fit(train_images,\n",
        "                        train_labels,\n",
        "                        validation_data=(test_images, test_labels),\n",
        "                        validation_steps=0.1*len(test_images),\n",
        "                        epochs=10)"
      ],
      "metadata": {
        "colab": {
          "base_uri": "https://localhost:8080/"
        },
        "id": "iWrspuk58O6E",
        "outputId": "3f6d2093-d450-4c97-b05b-04f43ed93f3f"
      },
      "execution_count": 63,
      "outputs": [
        {
          "output_type": "stream",
          "name": "stdout",
          "text": [
            "Epoch 1/10\n",
            "1875/1875 [==============================] - 8s 4ms/step - loss: 0.4102 - accuracy: 0.8531 - val_loss: 0.3217 - val_accuracy: 0.8849\n",
            "Epoch 2/10\n",
            "1875/1875 [==============================] - 7s 4ms/step - loss: 0.2842 - accuracy: 0.8970 - val_loss: 0.3109 - val_accuracy: 0.8887\n",
            "Epoch 3/10\n",
            "1875/1875 [==============================] - 7s 4ms/step - loss: 0.2448 - accuracy: 0.9102 - val_loss: 0.2645 - val_accuracy: 0.9026\n",
            "Epoch 4/10\n",
            "1875/1875 [==============================] - 7s 4ms/step - loss: 0.2132 - accuracy: 0.9216 - val_loss: 0.2575 - val_accuracy: 0.9078\n",
            "Epoch 5/10\n",
            "1875/1875 [==============================] - 7s 4ms/step - loss: 0.1924 - accuracy: 0.9270 - val_loss: 0.2494 - val_accuracy: 0.9083\n",
            "Epoch 6/10\n",
            "1875/1875 [==============================] - 6s 3ms/step - loss: 0.1720 - accuracy: 0.9360 - val_loss: 0.2519 - val_accuracy: 0.9083\n",
            "Epoch 7/10\n",
            "1875/1875 [==============================] - 6s 3ms/step - loss: 0.1541 - accuracy: 0.9423 - val_loss: 0.2558 - val_accuracy: 0.9123\n",
            "Epoch 8/10\n",
            "1875/1875 [==============================] - 6s 3ms/step - loss: 0.1377 - accuracy: 0.9481 - val_loss: 0.2422 - val_accuracy: 0.9221\n",
            "Epoch 9/10\n",
            "1875/1875 [==============================] - 7s 4ms/step - loss: 0.1238 - accuracy: 0.9534 - val_loss: 0.2615 - val_accuracy: 0.9147\n",
            "Epoch 10/10\n",
            "1875/1875 [==============================] - 7s 4ms/step - loss: 0.1147 - accuracy: 0.9567 - val_loss: 0.2736 - val_accuracy: 0.9165\n",
            "CPU times: user 1min 11s, sys: 5.9 s, total: 1min 17s\n",
            "Wall time: 1min 22s\n"
          ]
        }
      ]
    },
    {
      "cell_type": "code",
      "source": [
        "plot_accuracy_and_loss(history_6)"
      ],
      "metadata": {
        "colab": {
          "base_uri": "https://localhost:8080/",
          "height": 573
        },
        "id": "XKEnp4c983qT",
        "outputId": "8b61c423-11a7-4a57-d94b-20242b3bb44b"
      },
      "execution_count": 64,
      "outputs": [
        {
          "output_type": "display_data",
          "data": {
            "text/plain": [
              "<Figure size 432x288 with 1 Axes>"
            ],
            "image/png": "[encoded data removed]"
          },
          "metadata": {
            "needs_background": "light"
          }
        },
        {
          "output_type": "display_data",
          "data": {
            "text/plain": [
              "<Figure size 432x288 with 1 Axes>"
            ],
            "image/png": "[encoded data removed]"
          },
          "metadata": {
            "needs_background": "light"
          }
        }
      ]
    },
    {
      "cell_type": "markdown",
      "source": [
        "**This model's accuracy increased with every epoch so we can train it for a little longer but before that let's try a model with even lower learning rate.**"
      ],
      "metadata": {
        "id": "EAGmf8J_j5U6"
      }
    },
    {
      "cell_type": "markdown",
      "source": [
        "# Model 7: Reducing Learning Rate\n",
        "\n",
        "Exactly same as model 3 but just reduced learning rate"
      ],
      "metadata": {
        "id": "DQhIG0cfkGah"
      }
    },
    {
      "cell_type": "code",
      "source": [
        "%%time\n",
        "# Set the seed\n",
        "tf.random.set_seed(42)\n",
        "\n",
        "model_7 = tf.keras.models.Sequential([\n",
        "                                      tf.keras.layers.Conv2D(filters=32,\n",
        "                                                             kernel_size=(3, 3),\n",
        "                                                             strides=(1, 1),\n",
        "                                                             padding='valid',\n",
        "                                                             activation='relu',\n",
        "                                                             input_shape=(28, 28, 1)),\n",
        "                                      tf.keras.layers.MaxPooling2D(pool_size=(2, 2,), strides=(2, 2)),\n",
        "                                      tf.keras.layers.Dropout(rate=0.25),\n",
        "                                      tf.keras.layers.Flatten(),\n",
        "                                      tf.keras.layers.Dense(512, activation=\"relu\"),\n",
        "                                      tf.keras.layers.Dense(10, activation=\"softmax\")\n",
        "])\n",
        "\n",
        "model_7.compile(\n",
        "    loss=tf.keras.losses.sparse_categorical_crossentropy,\n",
        "    optimizer=tf.keras.optimizers.Adam(learning_rate=0.0001),\n",
        "    metrics=['accuracy']\n",
        ")\n",
        "\n",
        "history_7 = model_7.fit(train_images,\n",
        "                        train_labels,\n",
        "                        validation_data=(test_images, test_labels),\n",
        "                        validation_steps=0.5*len(test_images),\n",
        "                        epochs=10)"
      ],
      "metadata": {
        "colab": {
          "base_uri": "https://localhost:8080/"
        },
        "id": "sLgknAOxj35J",
        "outputId": "70daa0d4-50a2-419f-e4a7-d50e0bd5e641"
      },
      "execution_count": 65,
      "outputs": [
        {
          "output_type": "stream",
          "name": "stdout",
          "text": [
            "Epoch 1/10\n",
            "1875/1875 [==============================] - 16s 8ms/step - loss: 0.5110 - accuracy: 0.8238 - val_loss: 0.3897 - val_accuracy: 0.8617\n",
            "Epoch 2/10\n",
            "1875/1875 [==============================] - 15s 8ms/step - loss: 0.3588 - accuracy: 0.8733 - val_loss: 0.3962 - val_accuracy: 0.8554\n",
            "Epoch 3/10\n",
            "1875/1875 [==============================] - 13s 7ms/step - loss: 0.3218 - accuracy: 0.8857 - val_loss: 0.3200 - val_accuracy: 0.8839\n",
            "Epoch 4/10\n",
            "1875/1875 [==============================] - 13s 7ms/step - loss: 0.2948 - accuracy: 0.8953 - val_loss: 0.3020 - val_accuracy: 0.8901\n",
            "Epoch 5/10\n",
            "1875/1875 [==============================] - 13s 7ms/step - loss: 0.2765 - accuracy: 0.9006 - val_loss: 0.2937 - val_accuracy: 0.8931\n",
            "Epoch 6/10\n",
            "1875/1875 [==============================] - 16s 8ms/step - loss: 0.2594 - accuracy: 0.9071 - val_loss: 0.2822 - val_accuracy: 0.8931\n",
            "Epoch 7/10\n",
            "1875/1875 [==============================] - 13s 7ms/step - loss: 0.2460 - accuracy: 0.9107 - val_loss: 0.2697 - val_accuracy: 0.8973\n",
            "Epoch 8/10\n",
            "1875/1875 [==============================] - 13s 7ms/step - loss: 0.2328 - accuracy: 0.9167 - val_loss: 0.2612 - val_accuracy: 0.9050\n",
            "Epoch 9/10\n",
            "1875/1875 [==============================] - 13s 7ms/step - loss: 0.2223 - accuracy: 0.9189 - val_loss: 0.2477 - val_accuracy: 0.9083\n",
            "Epoch 10/10\n",
            "1875/1875 [==============================] - 15s 8ms/step - loss: 0.2119 - accuracy: 0.9222 - val_loss: 0.2523 - val_accuracy: 0.9067\n",
            "CPU times: user 2min 27s, sys: 11.8 s, total: 2min 39s\n",
            "Wall time: 2min 22s\n"
          ]
        }
      ]
    },
    {
      "cell_type": "markdown",
      "source": [
        "Hmmm....seems our model is stuck at somewhere around 91 accuracy and isn't improving.\n",
        "\n",
        "Now with our last throw of the dice let's try training our model 6 for 10 epochs more as that model had the most linear accuracy slope."
      ],
      "metadata": {
        "id": "rBjcgeXelP_x"
      }
    },
    {
      "cell_type": "markdown",
      "source": [
        "# Model 8 : training for 20 epochs\n",
        "\n",
        "Now we are going to traing our model 6 for 10 more epochs as it seemed to have an increasing accuracy with every epoch."
      ],
      "metadata": {
        "id": "ftNWNSeIkrsx"
      }
    },
    {
      "cell_type": "code",
      "source": [
        "%%time\n",
        "model_8 = tf.keras.models.Sequential([\n",
        "                                      tf.keras.layers.Conv2D(filters=32,\n",
        "                                                             kernel_size=(3, 3),\n",
        "                                                             padding='valid',\n",
        "                                                             activation='relu',\n",
        "                                                             input_shape=(28, 28, 1)),\n",
        "                                      tf.keras.layers.MaxPooling2D(pool_size=(2, 2,), strides=(2, 2)),\n",
        "                                      tf.keras.layers.Dropout(rate=0.25),\n",
        "                                      tf.keras.layers.Flatten(),\n",
        "                                      tf.keras.layers.Dense(128, activation=\"ReLU\"),\n",
        "                                      tf.keras.layers.Dense(10, activation=\"softmax\")\n",
        "])\n",
        "\n",
        "model_8.compile(\n",
        "    loss=tf.keras.losses.sparse_categorical_crossentropy,\n",
        "    optimizer=tf.keras.optimizers.Adam(),\n",
        "    metrics=['accuracy']\n",
        ")\n",
        "\n",
        "history_8 = model_8.fit(train_images,\n",
        "                        train_labels,\n",
        "                        validation_data=(test_images, test_labels),\n",
        "                        validation_steps=0.1*len(test_images),\n",
        "                        epochs=20)"
      ],
      "metadata": {
        "colab": {
          "base_uri": "https://localhost:8080/"
        },
        "id": "0tVhX3SFkfWK",
        "outputId": "ba455902-b541-4880-9ebe-dba1fb101d17"
      },
      "execution_count": 66,
      "outputs": [
        {
          "output_type": "stream",
          "name": "stdout",
          "text": [
            "Epoch 1/20\n",
            "1875/1875 [==============================] - 8s 4ms/step - loss: 0.4059 - accuracy: 0.8555 - val_loss: 0.3177 - val_accuracy: 0.8863\n",
            "Epoch 2/20\n",
            "1875/1875 [==============================] - 6s 3ms/step - loss: 0.2799 - accuracy: 0.8982 - val_loss: 0.3261 - val_accuracy: 0.8828\n",
            "Epoch 3/20\n",
            "1875/1875 [==============================] - 7s 4ms/step - loss: 0.2417 - accuracy: 0.9112 - val_loss: 0.2625 - val_accuracy: 0.9018\n",
            "Epoch 4/20\n",
            "1875/1875 [==============================] - 6s 3ms/step - loss: 0.2102 - accuracy: 0.9226 - val_loss: 0.2415 - val_accuracy: 0.9110\n",
            "Epoch 5/20\n",
            "1875/1875 [==============================] - 7s 4ms/step - loss: 0.1870 - accuracy: 0.9304 - val_loss: 0.2517 - val_accuracy: 0.9093\n",
            "Epoch 6/20\n",
            "1875/1875 [==============================] - 7s 4ms/step - loss: 0.1668 - accuracy: 0.9373 - val_loss: 0.2590 - val_accuracy: 0.9100\n",
            "Epoch 7/20\n",
            "1875/1875 [==============================] - 7s 4ms/step - loss: 0.1495 - accuracy: 0.9438 - val_loss: 0.2470 - val_accuracy: 0.9157\n",
            "Epoch 8/20\n",
            "1875/1875 [==============================] - 6s 3ms/step - loss: 0.1334 - accuracy: 0.9501 - val_loss: 0.2469 - val_accuracy: 0.9181\n",
            "Epoch 9/20\n",
            "1875/1875 [==============================] - 7s 3ms/step - loss: 0.1208 - accuracy: 0.9545 - val_loss: 0.2525 - val_accuracy: 0.9184\n",
            "Epoch 10/20\n",
            "1875/1875 [==============================] - 7s 4ms/step - loss: 0.1117 - accuracy: 0.9582 - val_loss: 0.2592 - val_accuracy: 0.9183\n",
            "Epoch 11/20\n",
            "1875/1875 [==============================] - 7s 4ms/step - loss: 0.1001 - accuracy: 0.9625 - val_loss: 0.2678 - val_accuracy: 0.9187\n",
            "Epoch 12/20\n",
            "1875/1875 [==============================] - 7s 4ms/step - loss: 0.0907 - accuracy: 0.9653 - val_loss: 0.2876 - val_accuracy: 0.9158\n",
            "Epoch 13/20\n",
            "1875/1875 [==============================] - 7s 4ms/step - loss: 0.0830 - accuracy: 0.9689 - val_loss: 0.2957 - val_accuracy: 0.9162\n",
            "Epoch 14/20\n",
            "1875/1875 [==============================] - 7s 4ms/step - loss: 0.0777 - accuracy: 0.9707 - val_loss: 0.2945 - val_accuracy: 0.9227\n",
            "Epoch 15/20\n",
            "1875/1875 [==============================] - 6s 3ms/step - loss: 0.0722 - accuracy: 0.9723 - val_loss: 0.3087 - val_accuracy: 0.9154\n",
            "Epoch 16/20\n",
            "1875/1875 [==============================] - 6s 3ms/step - loss: 0.0669 - accuracy: 0.9747 - val_loss: 0.3098 - val_accuracy: 0.9209\n",
            "Epoch 17/20\n",
            "1875/1875 [==============================] - 7s 4ms/step - loss: 0.0644 - accuracy: 0.9761 - val_loss: 0.3439 - val_accuracy: 0.9157\n",
            "Epoch 18/20\n",
            "1875/1875 [==============================] - 6s 3ms/step - loss: 0.0594 - accuracy: 0.9775 - val_loss: 0.3528 - val_accuracy: 0.9174\n",
            "Epoch 19/20\n",
            "1875/1875 [==============================] - 6s 3ms/step - loss: 0.0554 - accuracy: 0.9794 - val_loss: 0.3537 - val_accuracy: 0.9157\n",
            "Epoch 20/20\n",
            "1875/1875 [==============================] - 7s 3ms/step - loss: 0.0533 - accuracy: 0.9805 - val_loss: 0.3750 - val_accuracy: 0.9145\n",
            "CPU times: user 2min 23s, sys: 12 s, total: 2min 35s\n",
            "Wall time: 2min 22s\n"
          ]
        }
      ]
    },
    {
      "cell_type": "markdown",
      "source": [
        "Wellll.....seems it's all in vain. This model did achieve 92% validation accuracy on two of its epochs but eventually ended with less than 92.\n",
        "\n",
        "Let's evaluate all our models and see which one had the highest accuracy."
      ],
      "metadata": {
        "id": "DJim5aOimbnO"
      }
    },
    {
      "cell_type": "markdown",
      "source": [
        "# Evaluating all our models"
      ],
      "metadata": {
        "id": "tTXJnE0mmzQY"
      }
    },
    {
      "cell_type": "code",
      "source": [
        "model_1_evaluation_results = model_1.evaluate(test_images, test_labels)\n",
        "model_1_loss, model_1_accuracy = model_1_evaluation_results\n",
        "\n",
        "model_1_loss, model_1_accuracy"
      ],
      "metadata": {
        "colab": {
          "base_uri": "https://localhost:8080/"
        },
        "id": "L-jm9Va9pYl_",
        "outputId": "b2062991-b2a5-40d4-84d3-ae1239cc9142"
      },
      "execution_count": 88,
      "outputs": [
        {
          "output_type": "stream",
          "name": "stdout",
          "text": [
            "313/313 [==============================] - 1s 3ms/step - loss: 0.3609 - accuracy: 0.8714\n"
          ]
        },
        {
          "output_type": "execute_result",
          "data": {
            "text/plain": [
              "(0.3608885109424591, 0.871399998664856)"
            ]
          },
          "metadata": {},
          "execution_count": 88
        }
      ]
    },
    {
      "cell_type": "code",
      "source": [
        "model_2_evaluation_results = model_2.evaluate(test_images, test_labels)\n",
        "model_2_loss, model_2_accuracy = model_2_evaluation_results\n",
        "\n",
        "model_2_loss, model_2_accuracy"
      ],
      "metadata": {
        "colab": {
          "base_uri": "https://localhost:8080/"
        },
        "id": "gZ9S_DtDpgpf",
        "outputId": "a3787896-7f9f-4316-dcc0-38961608e3e2"
      },
      "execution_count": 89,
      "outputs": [
        {
          "output_type": "stream",
          "name": "stdout",
          "text": [
            "313/313 [==============================] - 1s 3ms/step - loss: 0.3565 - accuracy: 0.8799\n"
          ]
        },
        {
          "output_type": "execute_result",
          "data": {
            "text/plain": [
              "(0.35646724700927734, 0.8798999786376953)"
            ]
          },
          "metadata": {},
          "execution_count": 89
        }
      ]
    },
    {
      "cell_type": "code",
      "source": [
        "model_3_evaluation_results = model_3.evaluate(test_images, test_labels)"
      ],
      "metadata": {
        "colab": {
          "base_uri": "https://localhost:8080/"
        },
        "id": "3L0Qx35tmv5N",
        "outputId": "c11c6be0-e586-43c9-ed22-797887780712"
      },
      "execution_count": 69,
      "outputs": [
        {
          "output_type": "stream",
          "name": "stdout",
          "text": [
            "313/313 [==============================] - 1s 3ms/step - loss: 0.2447 - accuracy: 0.9110\n"
          ]
        }
      ]
    },
    {
      "cell_type": "code",
      "source": [
        "model_3_loss, model_3_accuracy = model_3_evaluation_results"
      ],
      "metadata": {
        "id": "LBXGOKv_nUsU"
      },
      "execution_count": 71,
      "outputs": []
    },
    {
      "cell_type": "code",
      "source": [
        "model_4_evaluation_results = model_4.evaluate(test_images, test_labels)\n",
        "model_4_loss, model_4_accuracy = model_4_evaluation_results\n",
        "\n",
        "model_4_loss, model_4_accuracy"
      ],
      "metadata": {
        "colab": {
          "base_uri": "https://localhost:8080/"
        },
        "id": "qEHEwa1Tno9x",
        "outputId": "97e7d9d8-293c-4687-f486-5fb120fc1706"
      },
      "execution_count": 74,
      "outputs": [
        {
          "output_type": "stream",
          "name": "stdout",
          "text": [
            "313/313 [==============================] - 1s 3ms/step - loss: 0.2747 - accuracy: 0.9007\n"
          ]
        },
        {
          "output_type": "execute_result",
          "data": {
            "text/plain": [
              "(0.27470284700393677, 0.9006999731063843)"
            ]
          },
          "metadata": {},
          "execution_count": 74
        }
      ]
    },
    {
      "cell_type": "code",
      "source": [
        "model_5_evaluation_results = model_5.evaluate(test_images, test_labels)\n",
        "model_5_loss, model_5_accuracy = model_5_evaluation_results\n",
        "\n",
        "model_5_loss, model_5_accuracy"
      ],
      "metadata": {
        "colab": {
          "base_uri": "https://localhost:8080/"
        },
        "id": "Vh4PFioMn3c-",
        "outputId": "88800274-edd2-4de2-fe58-b228fd8bc3ca"
      },
      "execution_count": 75,
      "outputs": [
        {
          "output_type": "stream",
          "name": "stdout",
          "text": [
            "313/313 [==============================] - 2s 5ms/step - loss: 0.2429 - accuracy: 0.9153\n"
          ]
        },
        {
          "output_type": "execute_result",
          "data": {
            "text/plain": [
              "(0.24290737509727478, 0.9153000116348267)"
            ]
          },
          "metadata": {},
          "execution_count": 75
        }
      ]
    },
    {
      "cell_type": "code",
      "source": [
        "model_6_evaluation_results = model_6.evaluate(test_images, test_labels)\n",
        "model_6_loss, model_6_accuracy = model_6_evaluation_results\n",
        "\n",
        "model_6_loss, model_6_accuracy"
      ],
      "metadata": {
        "colab": {
          "base_uri": "https://localhost:8080/"
        },
        "id": "6jRuG9SroCj1",
        "outputId": "75dad1da-7f00-4c13-a963-781537d2f01f"
      },
      "execution_count": 76,
      "outputs": [
        {
          "output_type": "stream",
          "name": "stdout",
          "text": [
            "313/313 [==============================] - 1s 3ms/step - loss: 0.2736 - accuracy: 0.9165\n"
          ]
        },
        {
          "output_type": "execute_result",
          "data": {
            "text/plain": [
              "(0.2736433744430542, 0.9164999723434448)"
            ]
          },
          "metadata": {},
          "execution_count": 76
        }
      ]
    },
    {
      "cell_type": "code",
      "source": [
        "model_7_evaluation_results = model_7.evaluate(test_images, test_labels)\n",
        "model_7_loss, model_7_accuracy = model_7_evaluation_results\n",
        "\n",
        "model_7_loss, model_7_accuracy"
      ],
      "metadata": {
        "colab": {
          "base_uri": "https://localhost:8080/"
        },
        "id": "yO59g4JioGPx",
        "outputId": "91f78547-35fe-4e91-fa65-957b2e487d15"
      },
      "execution_count": 77,
      "outputs": [
        {
          "output_type": "stream",
          "name": "stdout",
          "text": [
            "313/313 [==============================] - 1s 3ms/step - loss: 0.2523 - accuracy: 0.9067\n"
          ]
        },
        {
          "output_type": "execute_result",
          "data": {
            "text/plain": [
              "(0.25227299332618713, 0.9067000150680542)"
            ]
          },
          "metadata": {},
          "execution_count": 77
        }
      ]
    },
    {
      "cell_type": "code",
      "source": [
        "model_8_evaluation_results = model_8.evaluate(test_images, test_labels)\n",
        "model_8_loss, model_8_accuracy = model_8_evaluation_results\n",
        "\n",
        "model_8_loss, model_8_accuracy"
      ],
      "metadata": {
        "colab": {
          "base_uri": "https://localhost:8080/"
        },
        "id": "jvrHIHFvoLaw",
        "outputId": "baaa1502-53d1-4ffe-bb15-b940edcff9e7"
      },
      "execution_count": 78,
      "outputs": [
        {
          "output_type": "stream",
          "name": "stdout",
          "text": [
            "313/313 [==============================] - 1s 3ms/step - loss: 0.3750 - accuracy: 0.9145\n"
          ]
        },
        {
          "output_type": "execute_result",
          "data": {
            "text/plain": [
              "(0.3749869465827942, 0.9144999980926514)"
            ]
          },
          "metadata": {},
          "execution_count": 78
        }
      ]
    },
    {
      "cell_type": "code",
      "source": [
        "import pandas as pd"
      ],
      "metadata": {
        "id": "YpzjLglTogeo"
      },
      "execution_count": 80,
      "outputs": []
    },
    {
      "cell_type": "code",
      "source": [
        "Models_dict = {'Models': ['model_1', 'model_2', 'model_3', 'model_4', 'model_5', \"model_6\", 'model_7', 'model_8'],\n",
        "        'Accuracy': [model_1_accuracy, model_2_accuracy, model_3_accuracy, model_4_accuracy,\n",
        "                     model_5_accuracy, model_6_accuracy, model_7_accuracy, model_8_accuracy],\n",
        "        'Loss': [model_1_loss, model_2_loss, model_3_loss, model_4_loss,\n",
        "                 model_5_loss, model_6_loss, model_7_loss, model_8_loss]} \n",
        "Models_Performance = pd.DataFrame.from_dict(Models_dict)\n",
        "\n",
        "Models_Performance"
      ],
      "metadata": {
        "colab": {
          "base_uri": "https://localhost:8080/",
          "height": 300
        },
        "id": "HjKQkoKboOId",
        "outputId": "740b8096-f2e4-4870-8045-87d8e6c23e9a"
      },
      "execution_count": 90,
      "outputs": [
        {
          "output_type": "execute_result",
          "data": {
            "text/plain": [
              "    Models  Accuracy      Loss\n",
              "0  model_1    0.8714  0.360889\n",
              "1  model_2    0.8799  0.356467\n",
              "2  model_3    0.9110  0.244686\n",
              "3  model_4    0.9007  0.274703\n",
              "4  model_5    0.9153  0.242907\n",
              "5  model_6    0.9165  0.273643\n",
              "6  model_7    0.9067  0.252273\n",
              "7  model_8    0.9145  0.374987"
            ],
            "text/html": [
              "\n",
              "  <div id=\"df-73927e30-b0ef-4e4e-b2b4-95ffb4bf370d\">\n",
              "    <div class=\"colab-df-container\">\n",
              "      <div>\n",
              "<style scoped>\n",
              "    .dataframe tbody tr th:only-of-type {\n",
              "        vertical-align: middle;\n",
              "    }\n",
              "\n",
              "    .dataframe tbody tr th {\n",
              "        vertical-align: top;\n",
              "    }\n",
              "\n",
              "    .dataframe thead th {\n",
              "        text-align: right;\n",
              "    }\n",
              "</style>\n",
              "<table border=\"1\" class=\"dataframe\">\n",
              "  <thead>\n",
              "    <tr style=\"text-align: right;\">\n",
              "      <th></th>\n",
              "      <th>Models</th>\n",
              "      <th>Accuracy</th>\n",
              "      <th>Loss</th>\n",
              "    </tr>\n",
              "  </thead>\n",
              "  <tbody>\n",
              "    <tr>\n",
              "      <th>0</th>\n",
              "      <td>model_1</td>\n",
              "      <td>0.8714</td>\n",
              "      <td>0.360889</td>\n",
              "    </tr>\n",
              "    <tr>\n",
              "      <th>1</th>\n",
              "      <td>model_2</td>\n",
              "      <td>0.8799</td>\n",
              "      <td>0.356467</td>\n",
              "    </tr>\n",
              "    <tr>\n",
              "      <th>2</th>\n",
              "      <td>model_3</td>\n",
              "      <td>0.9110</td>\n",
              "      <td>0.244686</td>\n",
              "    </tr>\n",
              "    <tr>\n",
              "      <th>3</th>\n",
              "      <td>model_4</td>\n",
              "      <td>0.9007</td>\n",
              "      <td>0.274703</td>\n",
              "    </tr>\n",
              "    <tr>\n",
              "      <th>4</th>\n",
              "      <td>model_5</td>\n",
              "      <td>0.9153</td>\n",
              "      <td>0.242907</td>\n",
              "    </tr>\n",
              "    <tr>\n",
              "      <th>5</th>\n",
              "      <td>model_6</td>\n",
              "      <td>0.9165</td>\n",
              "      <td>0.273643</td>\n",
              "    </tr>\n",
              "    <tr>\n",
              "      <th>6</th>\n",
              "      <td>model_7</td>\n",
              "      <td>0.9067</td>\n",
              "      <td>0.252273</td>\n",
              "    </tr>\n",
              "    <tr>\n",
              "      <th>7</th>\n",
              "      <td>model_8</td>\n",
              "      <td>0.9145</td>\n",
              "      <td>0.374987</td>\n",
              "    </tr>\n",
              "  </tbody>\n",
              "</table>\n",
              "</div>\n",
              "      <button class=\"colab-df-convert\" onclick=\"convertToInteractive('df-73927e30-b0ef-4e4e-b2b4-95ffb4bf370d')\"\n",
              "              title=\"Convert this dataframe to an interactive table.\"\n",
              "              style=\"display:none;\">\n",
              "        \n",
              "  <svg xmlns=\"http://www.w3.org/2000/svg\" height=\"24px\"viewBox=\"0 0 24 24\"\n",
              "       width=\"24px\">\n",
              "    <path d=\"M0 0h24v24H0V0z\" fill=\"none\"/>\n",
              "    <path d=\"M18.56 5.44l.94 2.06.94-2.06 2.06-.94-2.06-.94-.94-2.06-.94 2.06-2.06.94zm-11 1L8.5 8.5l.94-2.06 2.06-.94-2.06-.94L8.5 2.5l-.94 2.06-2.06.94zm10 10l.94 2.06.94-2.06 2.06-.94-2.06-.94-.94-2.06-.94 2.06-2.06.94z\"/><path d=\"M17.41 7.96l-1.37-1.37c-.4-.4-.92-.59-1.43-.59-.52 0-1.04.2-1.43.59L10.3 9.45l-7.72 7.72c-.78.78-.78 2.05 0 2.83L4 21.41c.39.39.9.59 1.41.59.51 0 1.02-.2 1.41-.59l7.78-7.78 2.81-2.81c.8-.78.8-2.07 0-2.86zM5.41 20L4 18.59l7.72-7.72 1.47 1.35L5.41 20z\"/>\n",
              "  </svg>\n",
              "      </button>\n",
              "      \n",
              "  <style>\n",
              "    .colab-df-container {\n",
              "      display:flex;\n",
              "      flex-wrap:wrap;\n",
              "      gap: 12px;\n",
              "    }\n",
              "\n",
              "    .colab-df-convert {\n",
              "      background-color: #E8F0FE;\n",
              "      border: none;\n",
              "      border-radius: 50%;\n",
              "      cursor: pointer;\n",
              "      display: none;\n",
              "      fill: #1967D2;\n",
              "      height: 32px;\n",
              "      padding: 0 0 0 0;\n",
              "      width: 32px;\n",
              "    }\n",
              "\n",
              "    .colab-df-convert:hover {\n",
              "      background-color: #E2EBFA;\n",
              "      box-shadow: 0px 1px 2px rgba(60, 64, 67, 0.3), 0px 1px 3px 1px rgba(60, 64, 67, 0.15);\n",
              "      fill: #174EA6;\n",
              "    }\n",
              "\n",
              "    [theme=dark] .colab-df-convert {\n",
              "      background-color: #3B4455;\n",
              "      fill: #D2E3FC;\n",
              "    }\n",
              "\n",
              "    [theme=dark] .colab-df-convert:hover {\n",
              "      background-color: #434B5C;\n",
              "      box-shadow: 0px 1px 3px 1px rgba(0, 0, 0, 0.15);\n",
              "      filter: drop-shadow(0px 1px 2px rgba(0, 0, 0, 0.3));\n",
              "      fill: #FFFFFF;\n",
              "    }\n",
              "  </style>\n",
              "\n",
              "      <script>\n",
              "        const buttonEl =\n",
              "          document.querySelector('#df-73927e30-b0ef-4e4e-b2b4-95ffb4bf370d button.colab-df-convert');\n",
              "        buttonEl.style.display =\n",
              "          google.colab.kernel.accessAllowed ? 'block' : 'none';\n",
              "\n",
              "        async function convertToInteractive(key) {\n",
              "          const element = document.querySelector('#df-73927e30-b0ef-4e4e-b2b4-95ffb4bf370d');\n",
              "          const dataTable =\n",
              "            await google.colab.kernel.invokeFunction('convertToInteractive',\n",
              "                                                     [key], {});\n",
              "          if (!dataTable) return;\n",
              "\n",
              "          const docLinkHtml = 'Like what you see? Visit the ' +\n",
              "            '<a target=\"_blank\" href=https://colab.research.google.com/notebooks/data_table.ipynb>data table notebook</a>'\n",
              "            + ' to learn more about interactive tables.';\n",
              "          element.innerHTML = '';\n",
              "          dataTable['output_type'] = 'display_data';\n",
              "          await google.colab.output.renderOutput(dataTable, element);\n",
              "          const docLink = document.createElement('div');\n",
              "          docLink.innerHTML = docLinkHtml;\n",
              "          element.appendChild(docLink);\n",
              "        }\n",
              "      </script>\n",
              "    </div>\n",
              "  </div>\n",
              "  "
            ]
          },
          "metadata": {},
          "execution_count": 90
        }
      ]
    },
    {
      "cell_type": "markdown",
      "source": [
        "So we can conclude that our model 6 performed the best on our validation dataset."
      ],
      "metadata": {
        "id": "pjk74CBmqSl5"
      }
    },
    {
      "cell_type": "markdown",
      "source": [
        "# Visualizing best model's performance"
      ],
      "metadata": {
        "id": "SblPtiKcqi8R"
      }
    },
    {
      "cell_type": "code",
      "source": [
        "model_6_predictions = model_6.predict(test_images)"
      ],
      "metadata": {
        "id": "eAj5qXOZqylA"
      },
      "execution_count": 91,
      "outputs": []
    },
    {
      "cell_type": "code",
      "source": [
        "#Predictions on 10 random images in our model\n",
        "a = random.randrange(0, 9000, 1)\n",
        "\n",
        "for i in range(a, a+10):\n",
        "    print(\"Predicted Label: \", model_6_predictions[i].argmax(), class_names[model_6_predictions[i].argmax()])\n",
        "    print(\"True label.....: \", test_labels[i], class_names[test_labels[i]])\n",
        "    print(\"-----------------\")"
      ],
      "metadata": {
        "colab": {
          "base_uri": "https://localhost:8080/"
        },
        "id": "QdrudJ7AqfDR",
        "outputId": "b6098595-fa32-4097-ce24-ebf0fa515ec6"
      },
      "execution_count": 92,
      "outputs": [
        {
          "output_type": "stream",
          "name": "stdout",
          "text": [
            "Predicted Label:  4 Coat\n",
            "True label.....:  4 Coat\n",
            "-----------------\n",
            "Predicted Label:  8 Bag\n",
            "True label.....:  8 Bag\n",
            "-----------------\n",
            "Predicted Label:  7 Sneaker\n",
            "True label.....:  7 Sneaker\n",
            "-----------------\n",
            "Predicted Label:  0 T-shirt/top\n",
            "True label.....:  0 T-shirt/top\n",
            "-----------------\n",
            "Predicted Label:  3 Dress\n",
            "True label.....:  3 Dress\n",
            "-----------------\n",
            "Predicted Label:  6 Shirt\n",
            "True label.....:  6 Shirt\n",
            "-----------------\n",
            "Predicted Label:  4 Coat\n",
            "True label.....:  4 Coat\n",
            "-----------------\n",
            "Predicted Label:  7 Sneaker\n",
            "True label.....:  7 Sneaker\n",
            "-----------------\n",
            "Predicted Label:  3 Dress\n",
            "True label.....:  3 Dress\n",
            "-----------------\n",
            "Predicted Label:  3 Dress\n",
            "True label.....:  3 Dress\n",
            "-----------------\n"
          ]
        }
      ]
    },
    {
      "cell_type": "code",
      "source": [
        "#Plots first 15 images\n",
        "\n",
        "plot_multi_images_prob(model_6_predictions, test_labels, test_images, class_names=class_names, cmap=plt.cm.binary)"
      ],
      "metadata": {
        "colab": {
          "base_uri": "https://localhost:8080/",
          "height": 589
        },
        "id": "oBBglTGMq8-O",
        "outputId": "1bb2e458-7e04-4337-c85f-15c467b90239"
      },
      "execution_count": 96,
      "outputs": [
        {
          "output_type": "display_data",
          "data": {
            "text/plain": [
              "<Figure size 864x720 with 30 Axes>"
            ],
            "image/png": "[encoded data removed]"
          },
          "metadata": {}
        }
      ]
    }
  ]
}